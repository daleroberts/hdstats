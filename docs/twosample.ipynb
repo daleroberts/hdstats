{
 "cells": [
  {
   "cell_type": "code",
   "execution_count": 160,
   "metadata": {},
   "outputs": [
    {
     "name": "stdout",
     "output_type": "stream",
     "text": [
      "The autoreload extension is already loaded. To reload it, use:\n",
      "  %reload_ext autoreload\n"
     ]
    }
   ],
   "source": [
    "%load_ext autoreload\n",
    "%autoreload 2"
   ]
  },
  {
   "cell_type": "code",
   "execution_count": 161,
   "metadata": {},
   "outputs": [],
   "source": [
    "import matplotlib.pyplot as plt\n",
    "import numpy as np\n",
    "import pandas as pd\n",
    "import scipy as sp\n",
    "import hdstats\n",
    "\n",
    "from mpl_toolkits.mplot3d import axes3d"
   ]
  },
  {
   "cell_type": "code",
   "execution_count": 162,
   "metadata": {},
   "outputs": [],
   "source": [
    "%matplotlib inline\n",
    "%config InlineBackend.figure_format = 'retina'\n",
    "%config InlineBackend.figure_format = 'svg'\n",
    "\n",
    "np.set_printoptions(precision=4, suppress=True, linewidth=120)\n",
    "plt.style.use('./hdstats.mplstyle')"
   ]
  },
  {
   "cell_type": "markdown",
   "metadata": {},
   "source": [
    "## Two sample tests of mean"
   ]
  },
  {
   "cell_type": "markdown",
   "metadata": {},
   "source": [
    "These tests are like multidimensional versions of the t-test"
   ]
  },
  {
   "cell_type": "markdown",
   "metadata": {},
   "source": [
    "We can use these tests, if we observe two independent samples from the same or different population. The test measures whether the average (expected) value differs significantly across samples. If we observe a large p-value, for example larger than 0.05 or 0.1, then we cannot reject the null hypothesis of identical average scores. If the p-value is smaller than the threshold, e.g. 1%, 5% or 10%, then we reject the null hypothesis of equal averages."
   ]
  },
  {
   "cell_type": "markdown",
   "metadata": {},
   "source": [
    "### Generate some test data with same mean"
   ]
  },
  {
   "cell_type": "code",
   "execution_count": 163,
   "metadata": {},
   "outputs": [],
   "source": [
    "n1 = n2 = 50"
   ]
  },
  {
   "cell_type": "code",
   "execution_count": 164,
   "metadata": {},
   "outputs": [],
   "source": [
    "p = 200"
   ]
  },
  {
   "cell_type": "code",
   "execution_count": 165,
   "metadata": {},
   "outputs": [],
   "source": [
    "mu1 = np.zeros(p)"
   ]
  },
  {
   "cell_type": "code",
   "execution_count": 166,
   "metadata": {},
   "outputs": [],
   "source": [
    "mu2 = mu1.copy()"
   ]
  },
  {
   "cell_type": "code",
   "execution_count": 167,
   "metadata": {},
   "outputs": [],
   "source": [
    "true_cov = np.power(0.4, np.absolute(np.subtract.outer(np.arange(p), np.arange(p))))"
   ]
  },
  {
   "cell_type": "code",
   "execution_count": 168,
   "metadata": {},
   "outputs": [
    {
     "data": {
      "text/plain": [
       "array([[1.    , 0.4   , 0.16  , 0.064 , 0.0256, 0.0102, 0.0041, 0.0016, 0.0007, 0.0003],\n",
       "       [0.4   , 1.    , 0.4   , 0.16  , 0.064 , 0.0256, 0.0102, 0.0041, 0.0016, 0.0007],\n",
       "       [0.16  , 0.4   , 1.    , 0.4   , 0.16  , 0.064 , 0.0256, 0.0102, 0.0041, 0.0016],\n",
       "       [0.064 , 0.16  , 0.4   , 1.    , 0.4   , 0.16  , 0.064 , 0.0256, 0.0102, 0.0041],\n",
       "       [0.0256, 0.064 , 0.16  , 0.4   , 1.    , 0.4   , 0.16  , 0.064 , 0.0256, 0.0102],\n",
       "       [0.0102, 0.0256, 0.064 , 0.16  , 0.4   , 1.    , 0.4   , 0.16  , 0.064 , 0.0256],\n",
       "       [0.0041, 0.0102, 0.0256, 0.064 , 0.16  , 0.4   , 1.    , 0.4   , 0.16  , 0.064 ],\n",
       "       [0.0016, 0.0041, 0.0102, 0.0256, 0.064 , 0.16  , 0.4   , 1.    , 0.4   , 0.16  ],\n",
       "       [0.0007, 0.0016, 0.0041, 0.0102, 0.0256, 0.064 , 0.16  , 0.4   , 1.    , 0.4   ],\n",
       "       [0.0003, 0.0007, 0.0016, 0.0041, 0.0102, 0.0256, 0.064 , 0.16  , 0.4   , 1.    ]])"
      ]
     },
     "execution_count": 168,
     "metadata": {},
     "output_type": "execute_result"
    }
   ],
   "source": [
    "true_cov[:10,:10]"
   ]
  },
  {
   "cell_type": "code",
   "execution_count": 169,
   "metadata": {},
   "outputs": [
    {
     "data": {
      "text/plain": [
       "<matplotlib.image.AxesImage at 0x7fa3b5539358>"
      ]
     },
     "execution_count": 169,
     "metadata": {},
     "output_type": "execute_result"
    },
    {
     "data": {
      "image/svg+xml": [
       "<?xml version=\"1.0\" encoding=\"utf-8\" standalone=\"no\"?>\n",
       "<!DOCTYPE svg PUBLIC \"-//W3C//DTD SVG 1.1//EN\"\n",
       "  \"http://www.w3.org/Graphics/SVG/1.1/DTD/svg11.dtd\">\n",
       "<!-- Created with matplotlib (https://matplotlib.org/) -->\n",
       "<svg height=\"191.298927pt\" version=\"1.1\" viewBox=\"0 0 203.454841 191.298927\" width=\"203.454841pt\" xmlns=\"http://www.w3.org/2000/svg\" xmlns:xlink=\"http://www.w3.org/1999/xlink\">\n",
       " <defs>\n",
       "  <style type=\"text/css\">\n",
       "*{stroke-linecap:butt;stroke-linejoin:round;}\n",
       "  </style>\n",
       " </defs>\n",
       " <g id=\"figure_1\">\n",
       "  <g id=\"patch_1\">\n",
       "   <path d=\"M 0 191.298927 \n",
       "L 203.454841 191.298927 \n",
       "L 203.454841 0 \n",
       "L 0 0 \n",
       "z\n",
       "\" style=\"fill:#ffffff;\"/>\n",
       "  </g>\n",
       "  <g id=\"axes_1\">\n",
       "   <g id=\"patch_2\">\n",
       "    <path d=\"M 25.244761 173.037049 \n",
       "L 188.324761 173.037049 \n",
       "L 188.324761 9.957049 \n",
       "L 25.244761 9.957049 \n",
       "z\n",
       "\" style=\"fill:#ffffff;\"/>\n",
       "   </g>\n",
       "   <g clip-path=\"url(#p6070c051af)\">\n",
       "    <image height=\"163.44\" id=\"imagef3a8e4c140\" transform=\"scale(1 -1)translate(0 -163.44)\" width=\"163.44\" x=\"25.244761\" xlink:href=\"data:image/png;base64,\n",
       "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\" y=\"-9.597049\"/>\n",
       "   </g>\n",
       "   <g id=\"matplotlib.axis_1\">\n",
       "    <g id=\"xtick_1\">\n",
       "     <g id=\"line2d_1\">\n",
       "      <defs>\n",
       "       <path d=\"M 0 0 \n",
       "L 0 -4 \n",
       "\" id=\"mcd617b8e58\" style=\"stroke:#000000;stroke-width:0.8;\"/>\n",
       "      </defs>\n",
       "      <g>\n",
       "       <use style=\"stroke:#000000;stroke-width:0.8;\" x=\"25.652461\" xlink:href=\"#mcd617b8e58\" y=\"173.037049\"/>\n",
       "      </g>\n",
       "     </g>\n",
       "     <g id=\"text_1\">\n",
       "      <!-- 0 -->\n",
       "      <defs>\n",
       "       <path d=\"M 24.03125 36.375 \n",
       "Q 24.03125 38.96875 25.78125 40.71875 \n",
       "Q 27.546875 42.484375 30.078125 42.484375 \n",
       "Q 32.671875 42.484375 34.421875 40.71875 \n",
       "Q 36.1875 38.96875 36.1875 36.375 \n",
       "Q 36.1875 33.84375 34.421875 32.078125 \n",
       "Q 32.671875 30.328125 30.078125 30.328125 \n",
       "Q 27.546875 30.328125 25.78125 32.0625 \n",
       "Q 24.03125 33.796875 24.03125 36.375 \n",
       "z\n",
       "M 30.078125 62.015625 \n",
       "Q 25.109375 62.015625 22.8125 55.90625 \n",
       "Q 20.515625 49.8125 20.515625 36.375 \n",
       "Q 20.515625 23 22.8125 16.890625 \n",
       "Q 25.109375 10.796875 30.078125 10.796875 \n",
       "Q 35.109375 10.796875 37.40625 16.890625 \n",
       "Q 39.703125 23 39.703125 36.375 \n",
       "Q 39.703125 49.8125 37.40625 55.90625 \n",
       "Q 35.109375 62.015625 30.078125 62.015625 \n",
       "z\n",
       "M 6.015625 36.375 \n",
       "Q 6.015625 55.328125 12.015625 64.765625 \n",
       "Q 18.015625 74.21875 30.078125 74.21875 \n",
       "Q 42.1875 74.21875 48.1875 64.796875 \n",
       "Q 54.203125 55.375 54.203125 36.375 \n",
       "Q 54.203125 17.4375 48.1875 8 \n",
       "Q 42.1875 -1.421875 30.078125 -1.421875 \n",
       "Q 18.015625 -1.421875 12.015625 8.03125 \n",
       "Q 6.015625 17.484375 6.015625 36.375 \n",
       "z\n",
       "\" id=\"DejaVuSansMono-Bold-48\"/>\n",
       "      </defs>\n",
       "      <g transform=\"translate(23.145001 182.366548)scale(0.0833 -0.0833)\">\n",
       "       <use xlink:href=\"#DejaVuSansMono-Bold-48\"/>\n",
       "      </g>\n",
       "     </g>\n",
       "    </g>\n",
       "    <g id=\"xtick_2\">\n",
       "     <g id=\"line2d_2\">\n",
       "      <g>\n",
       "       <use style=\"stroke:#000000;stroke-width:0.8;\" x=\"66.422461\" xlink:href=\"#mcd617b8e58\" y=\"173.037049\"/>\n",
       "      </g>\n",
       "     </g>\n",
       "     <g id=\"text_2\">\n",
       "      <!-- 50 -->\n",
       "      <defs>\n",
       "       <path d=\"M 9.421875 72.90625 \n",
       "L 49.03125 72.90625 \n",
       "L 49.03125 60.203125 \n",
       "L 21.09375 60.203125 \n",
       "L 21.09375 46.6875 \n",
       "Q 22.859375 47.359375 24.859375 47.671875 \n",
       "Q 26.859375 48 29.109375 48 \n",
       "Q 39.953125 48 46.6875 41.15625 \n",
       "Q 53.421875 34.328125 53.421875 23.390625 \n",
       "Q 53.421875 11.921875 46.125 5.25 \n",
       "Q 38.828125 -1.421875 26.21875 -1.421875 \n",
       "Q 21.53125 -1.421875 16.75 -0.640625 \n",
       "Q 11.96875 0.140625 6.984375 1.703125 \n",
       "L 6.984375 14.703125 \n",
       "Q 11.046875 12.703125 15.3125 11.6875 \n",
       "Q 19.578125 10.6875 23.875 10.6875 \n",
       "Q 31.5 10.6875 35.453125 13.9375 \n",
       "Q 39.40625 17.1875 39.40625 23.390625 \n",
       "Q 39.40625 29.109375 35.46875 32.546875 \n",
       "Q 31.546875 35.984375 25 35.984375 \n",
       "Q 21.140625 35.984375 17.265625 35.03125 \n",
       "Q 13.390625 34.078125 9.421875 32.171875 \n",
       "z\n",
       "\" id=\"DejaVuSansMono-Bold-53\"/>\n",
       "      </defs>\n",
       "      <g transform=\"translate(61.407541 182.366548)scale(0.0833 -0.0833)\">\n",
       "       <use xlink:href=\"#DejaVuSansMono-Bold-53\"/>\n",
       "       <use x=\"60.205078\" xlink:href=\"#DejaVuSansMono-Bold-48\"/>\n",
       "      </g>\n",
       "     </g>\n",
       "    </g>\n",
       "    <g id=\"xtick_3\">\n",
       "     <g id=\"line2d_3\">\n",
       "      <g>\n",
       "       <use style=\"stroke:#000000;stroke-width:0.8;\" x=\"107.192461\" xlink:href=\"#mcd617b8e58\" y=\"173.037049\"/>\n",
       "      </g>\n",
       "     </g>\n",
       "     <g id=\"text_3\">\n",
       "      <!-- 100 -->\n",
       "      <defs>\n",
       "       <path d=\"M 9.1875 12.703125 \n",
       "L 25.296875 12.703125 \n",
       "L 25.296875 60.015625 \n",
       "L 10.3125 56.296875 \n",
       "L 10.3125 69.28125 \n",
       "L 25.390625 72.90625 \n",
       "L 39.3125 72.90625 \n",
       "L 39.3125 12.703125 \n",
       "L 55.421875 12.703125 \n",
       "L 55.421875 0 \n",
       "L 9.1875 0 \n",
       "z\n",
       "\" id=\"DejaVuSansMono-Bold-49\"/>\n",
       "      </defs>\n",
       "      <g transform=\"translate(99.67008 182.366548)scale(0.0833 -0.0833)\">\n",
       "       <use xlink:href=\"#DejaVuSansMono-Bold-49\"/>\n",
       "       <use x=\"60.205078\" xlink:href=\"#DejaVuSansMono-Bold-48\"/>\n",
       "       <use x=\"120.410156\" xlink:href=\"#DejaVuSansMono-Bold-48\"/>\n",
       "      </g>\n",
       "     </g>\n",
       "    </g>\n",
       "    <g id=\"xtick_4\">\n",
       "     <g id=\"line2d_4\">\n",
       "      <g>\n",
       "       <use style=\"stroke:#000000;stroke-width:0.8;\" x=\"147.962461\" xlink:href=\"#mcd617b8e58\" y=\"173.037049\"/>\n",
       "      </g>\n",
       "     </g>\n",
       "     <g id=\"text_4\">\n",
       "      <!-- 150 -->\n",
       "      <g transform=\"translate(140.44008 182.366548)scale(0.0833 -0.0833)\">\n",
       "       <use xlink:href=\"#DejaVuSansMono-Bold-49\"/>\n",
       "       <use x=\"60.205078\" xlink:href=\"#DejaVuSansMono-Bold-53\"/>\n",
       "       <use x=\"120.410156\" xlink:href=\"#DejaVuSansMono-Bold-48\"/>\n",
       "      </g>\n",
       "     </g>\n",
       "    </g>\n",
       "    <g id=\"xtick_5\">\n",
       "     <g id=\"line2d_5\">\n",
       "      <g>\n",
       "       <use style=\"stroke:#000000;stroke-width:0.8;\" x=\"188.732461\" xlink:href=\"#mcd617b8e58\" y=\"173.037049\"/>\n",
       "      </g>\n",
       "     </g>\n",
       "     <g id=\"text_5\">\n",
       "      <!-- 200 -->\n",
       "      <defs>\n",
       "       <path d=\"M 21.203125 12.703125 \n",
       "L 51.90625 12.703125 \n",
       "L 51.90625 0 \n",
       "L 5.625 0 \n",
       "L 5.625 12.3125 \n",
       "L 13.4375 20.609375 \n",
       "Q 27.34375 35.40625 30.328125 38.8125 \n",
       "Q 33.984375 43.015625 35.59375 46.265625 \n",
       "Q 37.21875 49.515625 37.21875 52.6875 \n",
       "Q 37.21875 57.5625 34.25 60.21875 \n",
       "Q 31.296875 62.890625 25.890625 62.890625 \n",
       "Q 22.03125 62.890625 17.21875 61.34375 \n",
       "Q 12.40625 59.8125 7.1875 56.890625 \n",
       "L 7.1875 70.3125 \n",
       "Q 12.40625 72.21875 17.40625 73.21875 \n",
       "Q 22.421875 74.21875 27 74.21875 \n",
       "Q 38.578125 74.21875 45.1875 68.8125 \n",
       "Q 51.8125 63.421875 51.8125 54.109375 \n",
       "Q 51.8125 49.8125 50.375 46.046875 \n",
       "Q 48.9375 42.28125 45.421875 37.703125 \n",
       "Q 42.828125 34.375 31.203125 22.75 \n",
       "Q 24.90625 16.453125 21.203125 12.703125 \n",
       "z\n",
       "\" id=\"DejaVuSansMono-Bold-50\"/>\n",
       "      </defs>\n",
       "      <g transform=\"translate(181.21008 182.366548)scale(0.0833 -0.0833)\">\n",
       "       <use xlink:href=\"#DejaVuSansMono-Bold-50\"/>\n",
       "       <use x=\"60.205078\" xlink:href=\"#DejaVuSansMono-Bold-48\"/>\n",
       "       <use x=\"120.410156\" xlink:href=\"#DejaVuSansMono-Bold-48\"/>\n",
       "      </g>\n",
       "     </g>\n",
       "    </g>\n",
       "    <g id=\"xtick_6\">\n",
       "     <g id=\"line2d_6\">\n",
       "      <defs>\n",
       "       <path d=\"M 0 0 \n",
       "L 0 -2 \n",
       "\" id=\"m0b530098c6\" style=\"stroke:#000000;stroke-width:0.6;\"/>\n",
       "      </defs>\n",
       "      <g>\n",
       "       <use style=\"stroke:#000000;stroke-width:0.6;\" x=\"33.806461\" xlink:href=\"#m0b530098c6\" y=\"173.037049\"/>\n",
       "      </g>\n",
       "     </g>\n",
       "    </g>\n",
       "    <g id=\"xtick_7\">\n",
       "     <g id=\"line2d_7\">\n",
       "      <g>\n",
       "       <use style=\"stroke:#000000;stroke-width:0.6;\" x=\"41.960461\" xlink:href=\"#m0b530098c6\" y=\"173.037049\"/>\n",
       "      </g>\n",
       "     </g>\n",
       "    </g>\n",
       "    <g id=\"xtick_8\">\n",
       "     <g id=\"line2d_8\">\n",
       "      <g>\n",
       "       <use style=\"stroke:#000000;stroke-width:0.6;\" x=\"50.114461\" xlink:href=\"#m0b530098c6\" y=\"173.037049\"/>\n",
       "      </g>\n",
       "     </g>\n",
       "    </g>\n",
       "    <g id=\"xtick_9\">\n",
       "     <g id=\"line2d_9\">\n",
       "      <g>\n",
       "       <use style=\"stroke:#000000;stroke-width:0.6;\" x=\"58.268461\" xlink:href=\"#m0b530098c6\" y=\"173.037049\"/>\n",
       "      </g>\n",
       "     </g>\n",
       "    </g>\n",
       "    <g id=\"xtick_10\">\n",
       "     <g id=\"line2d_10\">\n",
       "      <g>\n",
       "       <use style=\"stroke:#000000;stroke-width:0.6;\" x=\"74.576461\" xlink:href=\"#m0b530098c6\" y=\"173.037049\"/>\n",
       "      </g>\n",
       "     </g>\n",
       "    </g>\n",
       "    <g id=\"xtick_11\">\n",
       "     <g id=\"line2d_11\">\n",
       "      <g>\n",
       "       <use style=\"stroke:#000000;stroke-width:0.6;\" x=\"82.730461\" xlink:href=\"#m0b530098c6\" y=\"173.037049\"/>\n",
       "      </g>\n",
       "     </g>\n",
       "    </g>\n",
       "    <g id=\"xtick_12\">\n",
       "     <g id=\"line2d_12\">\n",
       "      <g>\n",
       "       <use style=\"stroke:#000000;stroke-width:0.6;\" x=\"90.884461\" xlink:href=\"#m0b530098c6\" y=\"173.037049\"/>\n",
       "      </g>\n",
       "     </g>\n",
       "    </g>\n",
       "    <g id=\"xtick_13\">\n",
       "     <g id=\"line2d_13\">\n",
       "      <g>\n",
       "       <use style=\"stroke:#000000;stroke-width:0.6;\" x=\"99.038461\" xlink:href=\"#m0b530098c6\" y=\"173.037049\"/>\n",
       "      </g>\n",
       "     </g>\n",
       "    </g>\n",
       "    <g id=\"xtick_14\">\n",
       "     <g id=\"line2d_14\">\n",
       "      <g>\n",
       "       <use style=\"stroke:#000000;stroke-width:0.6;\" x=\"115.346461\" xlink:href=\"#m0b530098c6\" y=\"173.037049\"/>\n",
       "      </g>\n",
       "     </g>\n",
       "    </g>\n",
       "    <g id=\"xtick_15\">\n",
       "     <g id=\"line2d_15\">\n",
       "      <g>\n",
       "       <use style=\"stroke:#000000;stroke-width:0.6;\" x=\"123.500461\" xlink:href=\"#m0b530098c6\" y=\"173.037049\"/>\n",
       "      </g>\n",
       "     </g>\n",
       "    </g>\n",
       "    <g id=\"xtick_16\">\n",
       "     <g id=\"line2d_16\">\n",
       "      <g>\n",
       "       <use style=\"stroke:#000000;stroke-width:0.6;\" x=\"131.654461\" xlink:href=\"#m0b530098c6\" y=\"173.037049\"/>\n",
       "      </g>\n",
       "     </g>\n",
       "    </g>\n",
       "    <g id=\"xtick_17\">\n",
       "     <g id=\"line2d_17\">\n",
       "      <g>\n",
       "       <use style=\"stroke:#000000;stroke-width:0.6;\" x=\"139.808461\" xlink:href=\"#m0b530098c6\" y=\"173.037049\"/>\n",
       "      </g>\n",
       "     </g>\n",
       "    </g>\n",
       "    <g id=\"xtick_18\">\n",
       "     <g id=\"line2d_18\">\n",
       "      <g>\n",
       "       <use style=\"stroke:#000000;stroke-width:0.6;\" x=\"156.116461\" xlink:href=\"#m0b530098c6\" y=\"173.037049\"/>\n",
       "      </g>\n",
       "     </g>\n",
       "    </g>\n",
       "    <g id=\"xtick_19\">\n",
       "     <g id=\"line2d_19\">\n",
       "      <g>\n",
       "       <use style=\"stroke:#000000;stroke-width:0.6;\" x=\"164.270461\" xlink:href=\"#m0b530098c6\" y=\"173.037049\"/>\n",
       "      </g>\n",
       "     </g>\n",
       "    </g>\n",
       "    <g id=\"xtick_20\">\n",
       "     <g id=\"line2d_20\">\n",
       "      <g>\n",
       "       <use style=\"stroke:#000000;stroke-width:0.6;\" x=\"172.424461\" xlink:href=\"#m0b530098c6\" y=\"173.037049\"/>\n",
       "      </g>\n",
       "     </g>\n",
       "    </g>\n",
       "    <g id=\"xtick_21\">\n",
       "     <g id=\"line2d_21\">\n",
       "      <g>\n",
       "       <use style=\"stroke:#000000;stroke-width:0.6;\" x=\"180.578461\" xlink:href=\"#m0b530098c6\" y=\"173.037049\"/>\n",
       "      </g>\n",
       "     </g>\n",
       "    </g>\n",
       "   </g>\n",
       "   <g id=\"matplotlib.axis_2\">\n",
       "    <g id=\"ytick_1\">\n",
       "     <g id=\"line2d_22\">\n",
       "      <defs>\n",
       "       <path d=\"M 0 0 \n",
       "L 4 0 \n",
       "\" id=\"mb401466ca5\" style=\"stroke:#000000;stroke-width:0.8;\"/>\n",
       "      </defs>\n",
       "      <g>\n",
       "       <use style=\"stroke:#000000;stroke-width:0.8;\" x=\"25.244761\" xlink:href=\"#mb401466ca5\" y=\"10.364749\"/>\n",
       "      </g>\n",
       "     </g>\n",
       "     <g id=\"text_6\">\n",
       "      <!-- 0 -->\n",
       "      <g transform=\"translate(17.229841 13.529498)scale(0.0833 -0.0833)\">\n",
       "       <use xlink:href=\"#DejaVuSansMono-Bold-48\"/>\n",
       "      </g>\n",
       "     </g>\n",
       "    </g>\n",
       "    <g id=\"ytick_2\">\n",
       "     <g id=\"line2d_23\">\n",
       "      <g>\n",
       "       <use style=\"stroke:#000000;stroke-width:0.8;\" x=\"25.244761\" xlink:href=\"#mb401466ca5\" y=\"30.749749\"/>\n",
       "      </g>\n",
       "     </g>\n",
       "     <g id=\"text_7\">\n",
       "      <!-- 25 -->\n",
       "      <g transform=\"translate(12.21492 33.914498)scale(0.0833 -0.0833)\">\n",
       "       <use xlink:href=\"#DejaVuSansMono-Bold-50\"/>\n",
       "       <use x=\"60.205078\" xlink:href=\"#DejaVuSansMono-Bold-53\"/>\n",
       "      </g>\n",
       "     </g>\n",
       "    </g>\n",
       "    <g id=\"ytick_3\">\n",
       "     <g id=\"line2d_24\">\n",
       "      <g>\n",
       "       <use style=\"stroke:#000000;stroke-width:0.8;\" x=\"25.244761\" xlink:href=\"#mb401466ca5\" y=\"51.134749\"/>\n",
       "      </g>\n",
       "     </g>\n",
       "     <g id=\"text_8\">\n",
       "      <!-- 50 -->\n",
       "      <g transform=\"translate(12.21492 54.299498)scale(0.0833 -0.0833)\">\n",
       "       <use xlink:href=\"#DejaVuSansMono-Bold-53\"/>\n",
       "       <use x=\"60.205078\" xlink:href=\"#DejaVuSansMono-Bold-48\"/>\n",
       "      </g>\n",
       "     </g>\n",
       "    </g>\n",
       "    <g id=\"ytick_4\">\n",
       "     <g id=\"line2d_25\">\n",
       "      <g>\n",
       "       <use style=\"stroke:#000000;stroke-width:0.8;\" x=\"25.244761\" xlink:href=\"#mb401466ca5\" y=\"71.519749\"/>\n",
       "      </g>\n",
       "     </g>\n",
       "     <g id=\"text_9\">\n",
       "      <!-- 75 -->\n",
       "      <defs>\n",
       "       <path d=\"M 6.59375 72.90625 \n",
       "L 52.6875 72.90625 \n",
       "L 52.6875 62.703125 \n",
       "L 27.984375 0 \n",
       "L 13.28125 0 \n",
       "L 37.015625 60.203125 \n",
       "L 6.59375 60.203125 \n",
       "z\n",
       "\" id=\"DejaVuSansMono-Bold-55\"/>\n",
       "      </defs>\n",
       "      <g transform=\"translate(12.21492 74.684498)scale(0.0833 -0.0833)\">\n",
       "       <use xlink:href=\"#DejaVuSansMono-Bold-55\"/>\n",
       "       <use x=\"60.205078\" xlink:href=\"#DejaVuSansMono-Bold-53\"/>\n",
       "      </g>\n",
       "     </g>\n",
       "    </g>\n",
       "    <g id=\"ytick_5\">\n",
       "     <g id=\"line2d_26\">\n",
       "      <g>\n",
       "       <use style=\"stroke:#000000;stroke-width:0.8;\" x=\"25.244761\" xlink:href=\"#mb401466ca5\" y=\"91.904749\"/>\n",
       "      </g>\n",
       "     </g>\n",
       "     <g id=\"text_10\">\n",
       "      <!-- 100 -->\n",
       "      <g transform=\"translate(7.2 95.069498)scale(0.0833 -0.0833)\">\n",
       "       <use xlink:href=\"#DejaVuSansMono-Bold-49\"/>\n",
       "       <use x=\"60.205078\" xlink:href=\"#DejaVuSansMono-Bold-48\"/>\n",
       "       <use x=\"120.410156\" xlink:href=\"#DejaVuSansMono-Bold-48\"/>\n",
       "      </g>\n",
       "     </g>\n",
       "    </g>\n",
       "    <g id=\"ytick_6\">\n",
       "     <g id=\"line2d_27\">\n",
       "      <g>\n",
       "       <use style=\"stroke:#000000;stroke-width:0.8;\" x=\"25.244761\" xlink:href=\"#mb401466ca5\" y=\"112.289749\"/>\n",
       "      </g>\n",
       "     </g>\n",
       "     <g id=\"text_11\">\n",
       "      <!-- 125 -->\n",
       "      <g transform=\"translate(7.2 115.454498)scale(0.0833 -0.0833)\">\n",
       "       <use xlink:href=\"#DejaVuSansMono-Bold-49\"/>\n",
       "       <use x=\"60.205078\" xlink:href=\"#DejaVuSansMono-Bold-50\"/>\n",
       "       <use x=\"120.410156\" xlink:href=\"#DejaVuSansMono-Bold-53\"/>\n",
       "      </g>\n",
       "     </g>\n",
       "    </g>\n",
       "    <g id=\"ytick_7\">\n",
       "     <g id=\"line2d_28\">\n",
       "      <g>\n",
       "       <use style=\"stroke:#000000;stroke-width:0.8;\" x=\"25.244761\" xlink:href=\"#mb401466ca5\" y=\"132.674749\"/>\n",
       "      </g>\n",
       "     </g>\n",
       "     <g id=\"text_12\">\n",
       "      <!-- 150 -->\n",
       "      <g transform=\"translate(7.2 135.839498)scale(0.0833 -0.0833)\">\n",
       "       <use xlink:href=\"#DejaVuSansMono-Bold-49\"/>\n",
       "       <use x=\"60.205078\" xlink:href=\"#DejaVuSansMono-Bold-53\"/>\n",
       "       <use x=\"120.410156\" xlink:href=\"#DejaVuSansMono-Bold-48\"/>\n",
       "      </g>\n",
       "     </g>\n",
       "    </g>\n",
       "    <g id=\"ytick_8\">\n",
       "     <g id=\"line2d_29\">\n",
       "      <g>\n",
       "       <use style=\"stroke:#000000;stroke-width:0.8;\" x=\"25.244761\" xlink:href=\"#mb401466ca5\" y=\"153.059749\"/>\n",
       "      </g>\n",
       "     </g>\n",
       "     <g id=\"text_13\">\n",
       "      <!-- 175 -->\n",
       "      <g transform=\"translate(7.2 156.224498)scale(0.0833 -0.0833)\">\n",
       "       <use xlink:href=\"#DejaVuSansMono-Bold-49\"/>\n",
       "       <use x=\"60.205078\" xlink:href=\"#DejaVuSansMono-Bold-55\"/>\n",
       "       <use x=\"120.410156\" xlink:href=\"#DejaVuSansMono-Bold-53\"/>\n",
       "      </g>\n",
       "     </g>\n",
       "    </g>\n",
       "    <g id=\"ytick_9\">\n",
       "     <g id=\"line2d_30\">\n",
       "      <g>\n",
       "       <use style=\"stroke:#000000;stroke-width:0.8;\" x=\"25.244761\" xlink:href=\"#mb401466ca5\" y=\"173.444749\"/>\n",
       "      </g>\n",
       "     </g>\n",
       "     <g id=\"text_14\">\n",
       "      <!-- 200 -->\n",
       "      <g transform=\"translate(7.2 176.609498)scale(0.0833 -0.0833)\">\n",
       "       <use xlink:href=\"#DejaVuSansMono-Bold-50\"/>\n",
       "       <use x=\"60.205078\" xlink:href=\"#DejaVuSansMono-Bold-48\"/>\n",
       "       <use x=\"120.410156\" xlink:href=\"#DejaVuSansMono-Bold-48\"/>\n",
       "      </g>\n",
       "     </g>\n",
       "    </g>\n",
       "    <g id=\"ytick_10\">\n",
       "     <g id=\"line2d_31\">\n",
       "      <defs>\n",
       "       <path d=\"M 0 0 \n",
       "L 2 0 \n",
       "\" id=\"m8785d13808\" style=\"stroke:#000000;stroke-width:0.6;\"/>\n",
       "      </defs>\n",
       "      <g>\n",
       "       <use style=\"stroke:#000000;stroke-width:0.6;\" x=\"25.244761\" xlink:href=\"#m8785d13808\" y=\"15.460999\"/>\n",
       "      </g>\n",
       "     </g>\n",
       "    </g>\n",
       "    <g id=\"ytick_11\">\n",
       "     <g id=\"line2d_32\">\n",
       "      <g>\n",
       "       <use style=\"stroke:#000000;stroke-width:0.6;\" x=\"25.244761\" xlink:href=\"#m8785d13808\" y=\"20.557249\"/>\n",
       "      </g>\n",
       "     </g>\n",
       "    </g>\n",
       "    <g id=\"ytick_12\">\n",
       "     <g id=\"line2d_33\">\n",
       "      <g>\n",
       "       <use style=\"stroke:#000000;stroke-width:0.6;\" x=\"25.244761\" xlink:href=\"#m8785d13808\" y=\"25.653499\"/>\n",
       "      </g>\n",
       "     </g>\n",
       "    </g>\n",
       "    <g id=\"ytick_13\">\n",
       "     <g id=\"line2d_34\">\n",
       "      <g>\n",
       "       <use style=\"stroke:#000000;stroke-width:0.6;\" x=\"25.244761\" xlink:href=\"#m8785d13808\" y=\"35.845999\"/>\n",
       "      </g>\n",
       "     </g>\n",
       "    </g>\n",
       "    <g id=\"ytick_14\">\n",
       "     <g id=\"line2d_35\">\n",
       "      <g>\n",
       "       <use style=\"stroke:#000000;stroke-width:0.6;\" x=\"25.244761\" xlink:href=\"#m8785d13808\" y=\"40.942249\"/>\n",
       "      </g>\n",
       "     </g>\n",
       "    </g>\n",
       "    <g id=\"ytick_15\">\n",
       "     <g id=\"line2d_36\">\n",
       "      <g>\n",
       "       <use style=\"stroke:#000000;stroke-width:0.6;\" x=\"25.244761\" xlink:href=\"#m8785d13808\" y=\"46.038499\"/>\n",
       "      </g>\n",
       "     </g>\n",
       "    </g>\n",
       "    <g id=\"ytick_16\">\n",
       "     <g id=\"line2d_37\">\n",
       "      <g>\n",
       "       <use style=\"stroke:#000000;stroke-width:0.6;\" x=\"25.244761\" xlink:href=\"#m8785d13808\" y=\"56.230999\"/>\n",
       "      </g>\n",
       "     </g>\n",
       "    </g>\n",
       "    <g id=\"ytick_17\">\n",
       "     <g id=\"line2d_38\">\n",
       "      <g>\n",
       "       <use style=\"stroke:#000000;stroke-width:0.6;\" x=\"25.244761\" xlink:href=\"#m8785d13808\" y=\"61.327249\"/>\n",
       "      </g>\n",
       "     </g>\n",
       "    </g>\n",
       "    <g id=\"ytick_18\">\n",
       "     <g id=\"line2d_39\">\n",
       "      <g>\n",
       "       <use style=\"stroke:#000000;stroke-width:0.6;\" x=\"25.244761\" xlink:href=\"#m8785d13808\" y=\"66.423499\"/>\n",
       "      </g>\n",
       "     </g>\n",
       "    </g>\n",
       "    <g id=\"ytick_19\">\n",
       "     <g id=\"line2d_40\">\n",
       "      <g>\n",
       "       <use style=\"stroke:#000000;stroke-width:0.6;\" x=\"25.244761\" xlink:href=\"#m8785d13808\" y=\"76.615999\"/>\n",
       "      </g>\n",
       "     </g>\n",
       "    </g>\n",
       "    <g id=\"ytick_20\">\n",
       "     <g id=\"line2d_41\">\n",
       "      <g>\n",
       "       <use style=\"stroke:#000000;stroke-width:0.6;\" x=\"25.244761\" xlink:href=\"#m8785d13808\" y=\"81.712249\"/>\n",
       "      </g>\n",
       "     </g>\n",
       "    </g>\n",
       "    <g id=\"ytick_21\">\n",
       "     <g id=\"line2d_42\">\n",
       "      <g>\n",
       "       <use style=\"stroke:#000000;stroke-width:0.6;\" x=\"25.244761\" xlink:href=\"#m8785d13808\" y=\"86.808499\"/>\n",
       "      </g>\n",
       "     </g>\n",
       "    </g>\n",
       "    <g id=\"ytick_22\">\n",
       "     <g id=\"line2d_43\">\n",
       "      <g>\n",
       "       <use style=\"stroke:#000000;stroke-width:0.6;\" x=\"25.244761\" xlink:href=\"#m8785d13808\" y=\"97.000999\"/>\n",
       "      </g>\n",
       "     </g>\n",
       "    </g>\n",
       "    <g id=\"ytick_23\">\n",
       "     <g id=\"line2d_44\">\n",
       "      <g>\n",
       "       <use style=\"stroke:#000000;stroke-width:0.6;\" x=\"25.244761\" xlink:href=\"#m8785d13808\" y=\"102.097249\"/>\n",
       "      </g>\n",
       "     </g>\n",
       "    </g>\n",
       "    <g id=\"ytick_24\">\n",
       "     <g id=\"line2d_45\">\n",
       "      <g>\n",
       "       <use style=\"stroke:#000000;stroke-width:0.6;\" x=\"25.244761\" xlink:href=\"#m8785d13808\" y=\"107.193499\"/>\n",
       "      </g>\n",
       "     </g>\n",
       "    </g>\n",
       "    <g id=\"ytick_25\">\n",
       "     <g id=\"line2d_46\">\n",
       "      <g>\n",
       "       <use style=\"stroke:#000000;stroke-width:0.6;\" x=\"25.244761\" xlink:href=\"#m8785d13808\" y=\"117.385999\"/>\n",
       "      </g>\n",
       "     </g>\n",
       "    </g>\n",
       "    <g id=\"ytick_26\">\n",
       "     <g id=\"line2d_47\">\n",
       "      <g>\n",
       "       <use style=\"stroke:#000000;stroke-width:0.6;\" x=\"25.244761\" xlink:href=\"#m8785d13808\" y=\"122.482249\"/>\n",
       "      </g>\n",
       "     </g>\n",
       "    </g>\n",
       "    <g id=\"ytick_27\">\n",
       "     <g id=\"line2d_48\">\n",
       "      <g>\n",
       "       <use style=\"stroke:#000000;stroke-width:0.6;\" x=\"25.244761\" xlink:href=\"#m8785d13808\" y=\"127.578499\"/>\n",
       "      </g>\n",
       "     </g>\n",
       "    </g>\n",
       "    <g id=\"ytick_28\">\n",
       "     <g id=\"line2d_49\">\n",
       "      <g>\n",
       "       <use style=\"stroke:#000000;stroke-width:0.6;\" x=\"25.244761\" xlink:href=\"#m8785d13808\" y=\"137.770999\"/>\n",
       "      </g>\n",
       "     </g>\n",
       "    </g>\n",
       "    <g id=\"ytick_29\">\n",
       "     <g id=\"line2d_50\">\n",
       "      <g>\n",
       "       <use style=\"stroke:#000000;stroke-width:0.6;\" x=\"25.244761\" xlink:href=\"#m8785d13808\" y=\"142.867249\"/>\n",
       "      </g>\n",
       "     </g>\n",
       "    </g>\n",
       "    <g id=\"ytick_30\">\n",
       "     <g id=\"line2d_51\">\n",
       "      <g>\n",
       "       <use style=\"stroke:#000000;stroke-width:0.6;\" x=\"25.244761\" xlink:href=\"#m8785d13808\" y=\"147.963499\"/>\n",
       "      </g>\n",
       "     </g>\n",
       "    </g>\n",
       "    <g id=\"ytick_31\">\n",
       "     <g id=\"line2d_52\">\n",
       "      <g>\n",
       "       <use style=\"stroke:#000000;stroke-width:0.6;\" x=\"25.244761\" xlink:href=\"#m8785d13808\" y=\"158.155999\"/>\n",
       "      </g>\n",
       "     </g>\n",
       "    </g>\n",
       "    <g id=\"ytick_32\">\n",
       "     <g id=\"line2d_53\">\n",
       "      <g>\n",
       "       <use style=\"stroke:#000000;stroke-width:0.6;\" x=\"25.244761\" xlink:href=\"#m8785d13808\" y=\"163.252249\"/>\n",
       "      </g>\n",
       "     </g>\n",
       "    </g>\n",
       "    <g id=\"ytick_33\">\n",
       "     <g id=\"line2d_54\">\n",
       "      <g>\n",
       "       <use style=\"stroke:#000000;stroke-width:0.6;\" x=\"25.244761\" xlink:href=\"#m8785d13808\" y=\"168.348499\"/>\n",
       "      </g>\n",
       "     </g>\n",
       "    </g>\n",
       "   </g>\n",
       "   <g id=\"patch_3\">\n",
       "    <path d=\"M 25.244761 173.037049 \n",
       "L 25.244761 9.957049 \n",
       "\" style=\"fill:none;stroke:#000000;stroke-linecap:square;stroke-linejoin:miter;\"/>\n",
       "   </g>\n",
       "   <g id=\"patch_4\">\n",
       "    <path d=\"M 188.324761 173.037049 \n",
       "L 188.324761 9.957049 \n",
       "\" style=\"fill:none;stroke:#000000;stroke-linecap:square;stroke-linejoin:miter;\"/>\n",
       "   </g>\n",
       "   <g id=\"patch_5\">\n",
       "    <path d=\"M 25.244761 173.037049 \n",
       "L 188.324761 173.037049 \n",
       "\" style=\"fill:none;stroke:#000000;stroke-linecap:square;stroke-linejoin:miter;\"/>\n",
       "   </g>\n",
       "   <g id=\"patch_6\">\n",
       "    <path d=\"M 25.244761 9.957049 \n",
       "L 188.324761 9.957049 \n",
       "\" style=\"fill:none;stroke:#000000;stroke-linecap:square;stroke-linejoin:miter;\"/>\n",
       "   </g>\n",
       "  </g>\n",
       " </g>\n",
       " <defs>\n",
       "  <clipPath id=\"p6070c051af\">\n",
       "   <rect height=\"163.08\" width=\"163.08\" x=\"25.244761\" y=\"9.957049\"/>\n",
       "  </clipPath>\n",
       " </defs>\n",
       "</svg>\n"
      ],
      "text/plain": [
       "<Figure size 300x300 with 1 Axes>"
      ]
     },
     "metadata": {},
     "output_type": "display_data"
    }
   ],
   "source": [
    "plt.imshow(true_cov)"
   ]
  },
  {
   "cell_type": "code",
   "execution_count": 170,
   "metadata": {},
   "outputs": [],
   "source": [
    "sam1 = hdstats.MultivariateNormal.rvs(mu1, cov=true_cov, size = n1).T\n",
    "sam2 = hdstats.MultivariateNormal.rvs(mu2, cov=true_cov, size = n2).T"
   ]
  },
  {
   "cell_type": "code",
   "execution_count": 171,
   "metadata": {},
   "outputs": [
    {
     "data": {
      "text/plain": [
       "(2.1733885399315818, 2.720126375543863e-05)"
      ]
     },
     "execution_count": 171,
     "metadata": {},
     "output_type": "execute_result"
    }
   ],
   "source": [
    "hdstats.test_sample_means(sam1, sam2)"
   ]
  },
  {
   "cell_type": "code",
   "execution_count": 172,
   "metadata": {},
   "outputs": [
    {
     "data": {
      "text/plain": [
       "(5.275502427408562, 6.619642944905024e-08)"
      ]
     },
     "execution_count": 172,
     "metadata": {},
     "output_type": "execute_result"
    }
   ],
   "source": [
    "hdstats.test_sample_means(sam1, sam2, 'BaiSarandasa')"
   ]
  },
  {
   "cell_type": "code",
   "execution_count": 173,
   "metadata": {},
   "outputs": [
    {
     "data": {
      "text/plain": [
       "(5.275502427408562, 6.619642944905024e-08)"
      ]
     },
     "execution_count": 173,
     "metadata": {},
     "output_type": "execute_result"
    }
   ],
   "source": [
    "hdstats.test_sample_means(sam1, sam2, 'ChenQin')"
   ]
  },
  {
   "cell_type": "markdown",
   "metadata": {},
   "source": [
    "#### Testing with geometric medians"
   ]
  },
  {
   "cell_type": "code",
   "execution_count": 174,
   "metadata": {},
   "outputs": [
    {
     "data": {
      "text/plain": [
       "(94.50495470420466, 0.00014573033991316375)"
      ]
     },
     "execution_count": 174,
     "metadata": {},
     "output_type": "execute_result"
    }
   ],
   "source": [
    "hdstats.test_sample_geomedians(sam1, sam2)"
   ]
  },
  {
   "cell_type": "markdown",
   "metadata": {},
   "source": [
    "### Generate some test data with slightly different mean"
   ]
  },
  {
   "cell_type": "code",
   "execution_count": 175,
   "metadata": {},
   "outputs": [],
   "source": [
    "n1 = n2 = 50"
   ]
  },
  {
   "cell_type": "code",
   "execution_count": 176,
   "metadata": {},
   "outputs": [],
   "source": [
    "p = 200"
   ]
  },
  {
   "cell_type": "code",
   "execution_count": 177,
   "metadata": {},
   "outputs": [],
   "source": [
    "mu1 = np.zeros(p)"
   ]
  },
  {
   "cell_type": "code",
   "execution_count": 178,
   "metadata": {},
   "outputs": [],
   "source": [
    "mu2 = mu1.copy()\n",
    "mu2[:50] = 0.2"
   ]
  },
  {
   "cell_type": "code",
   "execution_count": 179,
   "metadata": {},
   "outputs": [],
   "source": [
    "true_cov = np.power(0.4, np.absolute(np.subtract.outer(np.arange(p), np.arange(p))))"
   ]
  },
  {
   "cell_type": "code",
   "execution_count": 180,
   "metadata": {},
   "outputs": [],
   "source": [
    "sam1 = hdstats.MultivariateNormal.rvs(mu1, cov=true_cov, size = n1).T\n",
    "sam2 = hdstats.MultivariateNormal.rvs(mu2, cov=true_cov, size = n2).T"
   ]
  },
  {
   "cell_type": "code",
   "execution_count": 181,
   "metadata": {},
   "outputs": [
    {
     "data": {
      "text/plain": [
       "(3.543133067755036, 2.513655950053817e-12)"
      ]
     },
     "execution_count": 181,
     "metadata": {},
     "output_type": "execute_result"
    }
   ],
   "source": [
    "hdstats.test_sample_means(sam1, sam2)"
   ]
  },
  {
   "cell_type": "code",
   "execution_count": 182,
   "metadata": {},
   "outputs": [
    {
     "data": {
      "text/plain": [
       "(10.571483089088456, 0.0)"
      ]
     },
     "execution_count": 182,
     "metadata": {},
     "output_type": "execute_result"
    }
   ],
   "source": [
    "hdstats.test_sample_means(sam1, sam2, 'BaiSarandasa')"
   ]
  },
  {
   "cell_type": "code",
   "execution_count": 183,
   "metadata": {},
   "outputs": [
    {
     "data": {
      "text/plain": [
       "(10.571483089088453, 0.0)"
      ]
     },
     "execution_count": 183,
     "metadata": {},
     "output_type": "execute_result"
    }
   ],
   "source": [
    "hdstats.test_sample_means(sam1, sam2, 'ChenQin')"
   ]
  },
  {
   "cell_type": "markdown",
   "metadata": {},
   "source": [
    "#### Testing with geometric medians"
   ]
  },
  {
   "cell_type": "code",
   "execution_count": 184,
   "metadata": {},
   "outputs": [
    {
     "data": {
      "text/plain": [
       "(132.4708857715608, 2.176534508180339e-09)"
      ]
     },
     "execution_count": 184,
     "metadata": {},
     "output_type": "execute_result"
    }
   ],
   "source": [
    "hdstats.test_sample_geomedians(sam1, sam2)"
   ]
  }
 ],
 "metadata": {
  "kernelspec": {
   "display_name": "Python 3",
   "language": "python",
   "name": "python3"
  },
  "language_info": {
   "codemirror_mode": {
    "name": "ipython",
    "version": 3
   },
   "file_extension": ".py",
   "mimetype": "text/x-python",
   "name": "python",
   "nbconvert_exporter": "python",
   "pygments_lexer": "ipython3",
   "version": "3.6.7"
  }
 },
 "nbformat": 4,
 "nbformat_minor": 2
}
